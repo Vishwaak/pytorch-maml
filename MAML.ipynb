{
  "nbformat": 4,
  "nbformat_minor": 0,
  "metadata": {
    "colab": {
      "name": "MAML.ipynb",
      "provenance": [],
      "collapsed_sections": []
    },
    "kernelspec": {
      "name": "python3",
      "display_name": "Python 3"
    }
  },
  "cells": [
    {
      "cell_type": "code",
      "metadata": {
        "id": "5eHuX5QPkUf4",
        "colab_type": "code",
        "outputId": "0a16dcfc-62a5-4d6b-b4da-c95d31e27d50",
        "colab": {
          "base_uri": "https://localhost:8080/",
          "height": 139
        }
      },
      "source": [
        "!pip install learn2learn"
      ],
      "execution_count": 0,
      "outputs": [
        {
          "output_type": "stream",
          "text": [
            "  Building wheel for learn2learn (setup.py) ... \u001b[?25l\u001b[?25hdone\n",
            "  Created wheel for learn2learn: filename=learn2learn-0.1.0.1-cp36-cp36m-linux_x86_64.whl size=850193 sha256=34a7123f25c3a51cb3cd9e4d52a9fdf13afec06b97b1b113e8708cd6292717e0\n",
            "  Stored in directory: /root/.cache/pip/wheels/46/5f/e9/9a11f45835f6f9163aa311c673185bd50d1dea5fed29ac882a\n",
            "Successfully built learn2learn\n",
            "Installing collected packages: learn2learn\n",
            "Successfully installed learn2learn-0.1.0.1\n"
          ],
          "name": "stdout"
        }
      ]
    },
    {
      "cell_type": "code",
      "metadata": {
        "id": "xvTtNwomta0X",
        "colab_type": "code",
        "colab": {}
      },
      "source": [
        "import torch.nn as nn\n",
        "import torch.nn.functional as F\n",
        "class Net(nn.Module):\n",
        "    def __init__(self):\n",
        "        super(Net, self).__init__()\n",
        "        self.conv1 = nn.Conv2d(3,32,3 , stride =2 , padding =1)\n",
        "        self.conv2 = nn.Conv2d(32,64,3 ,stride =2 ,padding = 1)\n",
        "        self.conv3 = nn.Conv2d(64,128,3 ,padding = 1)\n",
        "        self.pool = nn.MaxPool2d(2,2);\n",
        "        self.fc1 = nn.Linear(7*7*128 , 500)\n",
        "        self.fc2  = nn.Linear(500 , 133)\n",
        "        self.drop = nn.Dropout(0.3)\n",
        "    \n",
        "    def forward(self, x):\n",
        "        ## Define forward behavior\n",
        "        x  = F.relu(self.conv1(x))\n",
        "        x = self.pool(x)\n",
        "        x  = F.relu(self.conv2(x))\n",
        "        x = self.pool(x)\n",
        "        x  = F.relu(self.conv3(x))\n",
        "        x = self.pool(x)\n",
        "        x = x.view(-1 , 7*7*128)\n",
        "        x = self.drop(x)\n",
        "        x = F.relu(self.fc1(x))\n",
        "        x = self.drop(x)\n",
        "        x = self.fc2(x)\n",
        "        return x"
      ],
      "execution_count": 0,
      "outputs": []
    },
    {
      "cell_type": "code",
      "metadata": {
        "id": "w6TpaN1KnCt-",
        "colab_type": "code",
        "colab": {}
      },
      "source": [
        "import random\n",
        "import numpy as  np\n",
        "import torch \n",
        "from PIL.Image import LANCZOS\n",
        "from torch import nn,optim\n",
        "from torchvision import transforms\n",
        "import learn2learn as l2l\n"
      ],
      "execution_count": 0,
      "outputs": []
    },
    {
      "cell_type": "code",
      "metadata": {
        "id": "h9l85JzEXuc6",
        "colab_type": "code",
        "colab": {}
      },
      "source": [
        "def accuracy(prediciton, targets):\n",
        "    prediction = prediiton.argmax(dim=1).view(target.shape)\n",
        "    return (prediciton == target).sum().float() / target.size(0)"
      ],
      "execution_count": 0,
      "outputs": []
    },
    {
      "cell_type": "code",
      "metadata": {
        "id": "TpXGZI_GaAVa",
        "colab_type": "code",
        "colab": {}
      },
      "source": [
        "def fast_adept(batch , learner, loss, adaptation_steps, shots,ways, device):\n",
        "    data , labels = batch\n",
        "    data , labels = data.to(device) , label.to(device)\n",
        "\n",
        "    adaptation_indices = np.zeros(data.size(0),dtype=bool)\n",
        "    adaptation_indices[np.arrange(shots*ways) * 2] = True\n",
        "    evaluation_indicies = torch.from_numpy(~adaptation_indices)\n",
        "    adaptation_indices = torch.from_numpy(adaptation_indices)\n",
        "    adaptation_data , adaptation_label = data[adaptation_indices] , labels[adaptation_indices]\n",
        "    evalution_data , evalutation_label = data[evaluation_indicies] , lables[adaptation_indices]\n",
        "\n",
        "    for step in range(adaptation_steps):\n",
        "        train_error = loss(learner(adaptation_data), adaptation_labels)\n",
        "        train_error /= len(adaptation_data)\n",
        "        learner.adapt(trian_error)\n",
        "    \n",
        "    predictions = learner(evalution_data)\n",
        "    valid_error = loss(predictions, evalution_labels)\n",
        "    valid_error /= len(evalution_data)\n",
        "    valid_accuracy = accuracy(predicitions , evalutation_label)\n",
        "    return  valid_error, valid_accuracy"
      ],
      "execution_count": 0,
      "outputs": []
    },
    {
      "cell_type": "code",
      "metadata": {
        "id": "04kBGdATFzdr",
        "colab_type": "code",
        "colab": {}
      },
      "source": [
        ""
      ],
      "execution_count": 0,
      "outputs": []
    }
  ]
}